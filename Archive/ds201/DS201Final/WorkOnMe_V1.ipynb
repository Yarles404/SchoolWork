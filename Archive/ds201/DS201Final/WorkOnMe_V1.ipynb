{
 "cells": [
  {
   "cell_type": "code",
   "execution_count": null,
   "metadata": {
    "_cell_guid": "b1076dfc-b9ad-4769-8c92-a6c4dae69d19",
    "_uuid": "8f2839f25d086af736a60e9eeb907d3b93b6e0e5"
   },
   "outputs": [],
   "source": [
    "# This Python 3 environment comes with many helpful analytics libraries installed\n",
    "# It is defined by the kaggle/python docker image: https://github.com/kaggle/docker-python\n",
    "# For example, here's several helpful packages to load in \n",
    "\n",
    "import numpy as np\n",
    "import pandas as pd\n",
    "import seaborn as sns\n",
    "import matplotlib.pyplot as plt"
   ]
  },
  {
   "cell_type": "code",
   "execution_count": null,
   "metadata": {
    "_cell_guid": "79c7e3d0-c299-4dcb-8224-4455121ee9b0",
    "_uuid": "d629ff2d2480ee46fbb7e2d37f6b5fab8052498a"
   },
   "outputs": [],
   "source": [
    "# Importing data to pandas dataframe. Display\n",
    "data = pd.read_csv(\"breast-cancer-wisconsin.csv\")\n",
    "data"
   ]
  },
  {
   "cell_type": "code",
   "execution_count": null,
   "metadata": {},
   "outputs": [],
   "source": [
    "# Basic Data Info\n",
    "data.info()"
   ]
  },
  {
   "cell_type": "code",
   "execution_count": null,
   "metadata": {},
   "outputs": [],
   "source": [
    "# drop duplicates\n",
    "data.drop_duplicates(subset = \"id\", inplace = True)"
   ]
  },
  {
   "cell_type": "code",
   "execution_count": null,
   "metadata": {},
   "outputs": [],
   "source": [
    "# This replaces ? as np.NaN, and converts the str to int64\n",
    "data['barenuclei'] = pd.to_numeric(data['barenuclei'], errors='coerce')"
   ]
  },
  {
   "cell_type": "code",
   "execution_count": null,
   "metadata": {},
   "outputs": [],
   "source": [
    "len(data[data.isnull().any(axis=1)].index) # IMPORTANT"
   ]
  },
  {
   "cell_type": "code",
   "execution_count": null,
   "metadata": {},
   "outputs": [],
   "source": [
    "# Map's benormal column's values from 2 -> 0, and 4 -> 1\n",
    "data['benormal'] = data['benormal'].map({4.0:1.0, 2.0:0})"
   ]
  },
  {
   "cell_type": "code",
   "execution_count": null,
   "metadata": {},
   "outputs": [],
   "source": [
    "# id column unnecessary\n",
    "data.drop(columns = \"id\", inplace = True)\n",
    "# basic info with cleaned data\n",
    "data.info()"
   ]
  },
  {
   "cell_type": "code",
   "execution_count": null,
   "metadata": {},
   "outputs": [],
   "source": [
    "# basic statistics with cleaned data\n",
    "data.describe()"
   ]
  },
  {
   "cell_type": "code",
   "execution_count": null,
   "metadata": {},
   "outputs": [],
   "source": [
    "# histogram grid\n",
    "fig, ax = plt.subplots(5, 2, figsize=(10,25))\n",
    "\n",
    "sns.distplot(data.clumpthickness, hist = True, kde = False, bins = 20, ax=ax[0,0])\n",
    "sns.distplot(data.uniformcellsize, hist = True, kde = False, bins = 20, ax=ax[0,1])\n",
    "sns.distplot(data.uniformcellshape, hist = True, kde = False, bins = 20, ax=ax[1,0])\n",
    "sns.distplot(data.margadhesion, hist = True, kde = False, bins = 20, ax=ax[1,1])\n",
    "sns.distplot(data.epithelial, hist = True, kde = False, bins = 20, ax=ax[2,0])\n",
    "sns.distplot(data.barenuclei, hist = True, kde = False, bins = 20, ax=ax[2,1])\n",
    "sns.distplot(data.blandchromatin, hist = True, kde = False, bins = 20, ax=ax[3,0])\n",
    "sns.distplot(data.normalnucleoli, hist = True, kde = False, bins = 20, ax=ax[3,1])\n",
    "sns.distplot(data.mitoses, hist = True, kde = False, bins = 20, ax=ax[4,0])\n",
    "sns.distplot(data.benormal, hist = True, kde = False, bins = 20, ax=ax[4,1])\n",
    "\n",
    "plt.show()"
   ]
  },
  {
   "cell_type": "code",
   "execution_count": null,
   "metadata": {},
   "outputs": [],
   "source": [
    "# seaborn pairplot NO LONGER NEEDED\n",
    "#dataPairGrid = sns.pairplot(data,vars=data,hue=\"benormal\",diag_kind=\"kde\")\n",
    "\n",
    "#plt.show()"
   ]
  },
  {
   "cell_type": "code",
   "execution_count": null,
   "metadata": {},
   "outputs": [],
   "source": [
    "# Density Plots\n",
    "fig, ax = plt.subplots(3,3, figsize=(15,15))\n",
    "\n",
    "sns.kdeplot(data[data[\"benormal\"] == 0].clumpthickness, label=\"Benign clumpthiccness\", bw = .5, shade = True, ax = ax[0,0])\n",
    "sns.kdeplot(data[data[\"benormal\"] == 1].clumpthickness, label=\"Malignant clumpthiccness\", bw = .5, shade = True, ax = ax[0,0])\n",
    "\n",
    "sns.kdeplot(data[data[\"benormal\"] == 0].uniformcellsize, label=\"Benign uniformcellsize\", bw = .5, shade = True, ax = ax[0,1])\n",
    "sns.kdeplot(data[data[\"benormal\"] == 1].uniformcellsize, label=\"Malignant uniformcellsize\", bw = .5, shade = True, ax = ax[0,1])\n",
    "\n",
    "sns.kdeplot(data[data[\"benormal\"] == 0].uniformcellshape, label=\"Benign uniformcellshape\", bw = 1, shade = True, ax = ax[0,2])\n",
    "sns.kdeplot(data[data[\"benormal\"] == 1].uniformcellshape, label=\"Malignant uniformcellshape\", bw = 1, shade = True, ax = ax[0,2])\n",
    "\n",
    "sns.kdeplot(data[data[\"benormal\"] == 0].margadhesion, label=\"Benign margadhesion\", bw = .5, shade = True, ax = ax[1,0])\n",
    "sns.kdeplot(data[data[\"benormal\"] == 1].margadhesion, label=\"Malignant margadhesion\", bw = .5, shade = True, ax = ax[1,0])\n",
    "\n",
    "sns.kdeplot(data[data[\"benormal\"] == 0].epithelial, label=\"Benign epithelial\", bw = .5, shade = True, ax = ax[1,1])\n",
    "sns.kdeplot(data[data[\"benormal\"] == 1].epithelial, label=\"Malignant epithelial\", bw = .5, shade = True, ax = ax[1,1])\n",
    "\n",
    "sns.kdeplot(data[data[\"benormal\"] == 0].blandchromatin, label=\"Benign blandchromatin\", bw = .5, shade = True, ax = ax[1,2])\n",
    "sns.kdeplot(data[data[\"benormal\"] == 1].blandchromatin, label=\"Malignant blandchromatin\", bw = .5, shade = True, ax = ax[1,2])\n",
    "\n",
    "sns.kdeplot(data[data[\"benormal\"] == 0].normalnucleoli, label=\"Benign normalnucleoli\", bw = .5, shade = True, ax = ax[2,0])\n",
    "sns.kdeplot(data[data[\"benormal\"] == 1].normalnucleoli, label=\"Malignant normalnucleoli\", bw = .5, shade = True, ax = ax[2,0])\n",
    "\n",
    "sns.kdeplot(data[data[\"benormal\"] == 0].mitoses, label=\"Benign mitoses\", bw = .5, shade = True, ax = ax[2,1])\n",
    "sns.kdeplot(data[data[\"benormal\"] == 1].mitoses, label=\"Malignant mitoses\", bw = .5, shade = True, ax = ax[2,1])\n",
    "\n",
    "sns.kdeplot(data[data[\"benormal\"] == 0].barenuclei, label=\"Benign barenuclei\", bw = .5, shade = True, ax = ax[2,2])\n",
    "sns.kdeplot(data[data[\"benormal\"] == 1].barenuclei, label=\"Malignant barenuclei\", bw = .5, shade = True, ax = ax[2,2])\n",
    "\n",
    "for i in range(0,9):\n",
    "    fig.get_axes()[i].legend(loc='upper left')\n",
    "\n",
    "\n",
    "plt.legend();"
   ]
  },
  {
   "cell_type": "code",
   "execution_count": null,
   "metadata": {},
   "outputs": [],
   "source": [
    "#Histograms with color\n",
    "\n",
    "fig, ax = plt.subplots(3,3, figsize=(15,15))\n",
    "sns.distplot(data[data[\"benormal\"]==0].clumpthickness, hist = True, kde = False, bins = 20, ax=ax[0,0], color = 'g')\n",
    "sns.distplot(data[data[\"benormal\"]==1].clumpthickness, hist = True, kde = False, bins = 20, ax=ax[0,0], color = 'r')\n",
    "\n",
    "sns.distplot(data[data[\"benormal\"]==0].uniformcellsize, hist = True, kde = False, bins = 20, ax=ax[0,1], color = 'g')\n",
    "sns.distplot(data[data[\"benormal\"]==1].uniformcellsize, hist = True, kde = False, bins = 20, ax=ax[0,1], color = 'r')\n",
    "\n",
    "sns.distplot(data[data[\"benormal\"]==0].uniformcellshape, hist = True, kde = False, bins = 20, ax=ax[0,2], color = 'g')\n",
    "sns.distplot(data[data[\"benormal\"]==1].uniformcellshape, hist = True, kde = False, bins = 20, ax=ax[0,2], color = 'r')\n",
    "\n",
    "sns.distplot(data[data[\"benormal\"]==0].margadhesion, hist = True, kde = False, bins = 20, ax=ax[1,0], color = 'g')\n",
    "sns.distplot(data[data[\"benormal\"]==1].margadhesion, hist = True, kde = False, bins = 20, ax=ax[1,0], color = 'r')\n",
    "\n",
    "sns.distplot(data[data[\"benormal\"]==0].epithelial, hist = True, kde = False, bins = 20, ax=ax[1,1], color = 'g')\n",
    "sns.distplot(data[data[\"benormal\"]==1].epithelial, hist = True, kde = False, bins = 20, ax=ax[1,1], color = 'r')\n",
    "\n",
    "sns.distplot(data[data[\"benormal\"]==0].blandchromatin, hist = True, kde = False, bins = 20, ax=ax[1,2], color = 'g')\n",
    "sns.distplot(data[data[\"benormal\"]==1].blandchromatin, hist = True, kde = False, bins = 20, ax=ax[1,2], color = 'r')\n",
    "\n",
    "sns.distplot(data[data[\"benormal\"]==0].normalnucleoli, hist = True, kde = False, bins = 20, ax=ax[2,0], color = 'g')\n",
    "sns.distplot(data[data[\"benormal\"]==1].normalnucleoli, hist = True, kde = False, bins = 20, ax=ax[2,0], color = 'r')\n",
    "\n",
    "sns.distplot(data[data[\"benormal\"]==0].mitoses, hist = True, kde = False, bins = 20, ax=ax[2,1], color = 'g')\n",
    "sns.distplot(data[data[\"benormal\"]==1].mitoses, hist = True, kde = False, bins = 20, ax=ax[2,1], color = 'r')\n",
    "\n",
    "sns.distplot(data[data[\"benormal\"]==0].barenuclei, hist = True, kde = False, bins = 20, ax=ax[2,2], color = 'g')\n",
    "sns.distplot(data[data[\"benormal\"]==1].barenuclei, hist = True, kde = False, bins = 20, ax=ax[2,2], color = 'r')\n",
    "\n",
    "plt.show()\n",
    "\n"
   ]
  },
  {
   "cell_type": "code",
   "execution_count": null,
   "metadata": {},
   "outputs": [],
   "source": [
    "# seaborn heat map\n",
    "corr=data.corr()\n",
    "\n",
    "sns.set(font_scale=1.15)\n",
    "plt.figure(figsize=(14, 14))\n",
    "\n",
    "sns.heatmap(corr, linewidths=0.01,\n",
    "            square=True,annot=True,cmap='YlGnBu',linecolor=\"black\")\n",
    "plt.title('Correlation between features');"
   ]
  },
  {
   "cell_type": "markdown",
   "metadata": {},
   "source": []
  },
  {
   "cell_type": "code",
   "execution_count": null,
   "metadata": {},
   "outputs": [],
   "source": [
    "from sklearn.neighbors import KNeighborsClassifier\n",
    "from sklearn.model_selection import train_test_split\n",
    "from sklearn.metrics import accuracy_score"
   ]
  },
  {
   "cell_type": "code",
   "execution_count": null,
   "metadata": {},
   "outputs": [],
   "source": [
    "data = data.dropna()\n",
    "\n",
    "len(data[data.isnull().any(axis=1)].index) # Checks for NaN values"
   ]
  },
  {
   "cell_type": "code",
   "execution_count": null,
   "metadata": {},
   "outputs": [],
   "source": [
    "X = np.array(data.drop(columns = 'benormal', inplace = False))\n",
    "Y = data['benormal']\n",
    "rState = 42\n",
    "\n",
    "# Train/Validation/Test split of 70, 15, 15\n",
    "xTrain, xTest, yTrain, yTest = train_test_split(X, Y, test_size = .30, random_state = rState)\n",
    "xTest, xVal, yTest, yVal = train_test_split(xTest, yTest, test_size = .5, random_state = rState)"
   ]
  },
  {
   "cell_type": "code",
   "execution_count": null,
   "metadata": {},
   "outputs": [],
   "source": [
    "preds = []\n",
    "score = []\n",
    "for n in range(1,51):\n",
    "    KNN_val = KNeighborsClassifier(n_neighbors = n)\n",
    "    KNN_val.fit(xTrain, yTrain)\n",
    "    preds = KNN_val.predict(xVal)\n",
    "    score.append(accuracy_score(y_true = yVal, y_pred = preds))\n",
    "    \n",
    "plt.plot(range(1,51), score)\n",
    "plt.xlabel(\"Value of K for KNN\")\n",
    "plt.ylabel(\"Testing Accuracy\")\n",
    "\n",
    "plt.show()\n",
    "print(np.median(score))\n",
    "print(np.max(score))"
   ]
  },
  {
   "cell_type": "code",
   "execution_count": null,
   "metadata": {},
   "outputs": [],
   "source": [
    "score[7]"
   ]
  },
  {
   "cell_type": "markdown",
   "metadata": {},
   "source": [
    "Trying a KNN model excluding Mitosis in X"
   ]
  },
  {
   "cell_type": "code",
   "execution_count": null,
   "metadata": {},
   "outputs": [],
   "source": [
    "X = np.array(data.drop(columns = {'mitoses','benormal'}, inplace = False))\n",
    "Y = data['benormal']\n",
    "\n",
    "# Train/Validation/Test split of roughly 70, 15, 15\n",
    "xTrain, xTest, yTrain, yTest = train_test_split(X, Y, test_size = .30, random_state = rState)\n",
    "xTest, xVal, yTest, yVal = train_test_split(xTest, yTest, test_size = .5, random_state = rState)"
   ]
  },
  {
   "cell_type": "code",
   "execution_count": null,
   "metadata": {},
   "outputs": [],
   "source": [
    "preds = []\n",
    "score = []\n",
    "for n in range(1,51):\n",
    "    KNN_val = KNeighborsClassifier(n_neighbors = n)\n",
    "    KNN_val.fit(xTrain, yTrain)\n",
    "    preds = KNN_val.predict(xVal)\n",
    "    score.append(accuracy_score(y_true = yVal, y_pred = preds))\n",
    "    \n",
    "plt.plot(range(1,51), score)\n",
    "plt.xlabel(\"Value of K for KNN\")\n",
    "plt.ylabel(\"Testing Accuracy\")\n",
    "\n",
    "plt.show()\n",
    "print(np.median(score))\n",
    "print(np.max(score))"
   ]
  },
  {
   "cell_type": "markdown",
   "metadata": {},
   "source": [
    "No significant difference between excluding and including mitosis; test will proceed including mitosis.\n",
    "KNN 5 seemed to perform the best on the validation."
   ]
  },
  {
   "cell_type": "code",
   "execution_count": null,
   "metadata": {},
   "outputs": [],
   "source": [
    "X = np.array(data.drop(columns = {'benormal'}, inplace = False))\n",
    "Y = data['benormal']\n",
    "\n",
    "# Train/Validation/Test split of roughly 70, 15, 15\n",
    "xTrain, xTest, yTrain, yTest = train_test_split(X, Y, test_size = .30, random_state = rState)\n",
    "xTest, xVal, yTest, yVal = train_test_split(xTest, yTest, test_size = .5, random_state = rState)\n",
    "\n",
    "KNN_val = KNeighborsClassifier(n_neighbors = 6)\n",
    "KNN_val.fit(xTrain, yTrain)\n",
    "preds = KNN_val.predict(xTest)\n",
    "accuracy_score(y_true = yTest, y_pred = preds)"
   ]
  },
  {
   "cell_type": "code",
   "execution_count": null,
   "metadata": {},
   "outputs": [],
   "source": [
    "# Data to plot\n",
    "labels = 'Correct', 'Incorrect'\n",
    "sizes = [96.8, 3.2]\n",
    "colors = ['gold', 'red',]\n",
    "\n",
    "# Plot\n",
    "plt.pie(sizes, labels=labels, colors=colors,\n",
    "autopct='%1.1f%%', startangle=0)\n",
    "\n",
    "plt.axis('equal')\n",
    "plt.title('Correct Predictions with KNN, K = 6')\n",
    "plt.show()"
   ]
  },
  {
   "cell_type": "code",
   "execution_count": null,
   "metadata": {},
   "outputs": [],
   "source": []
  }
 ],
 "metadata": {
  "kernelspec": {
   "display_name": "Python 3",
   "language": "python",
   "name": "python3"
  },
  "language_info": {
   "codemirror_mode": {
    "name": "ipython",
    "version": 3
   },
   "file_extension": ".py",
   "mimetype": "text/x-python",
   "name": "python",
   "nbconvert_exporter": "python",
   "pygments_lexer": "ipython3",
   "version": "3.7.4"
  }
 },
 "nbformat": 4,
 "nbformat_minor": 4
}
