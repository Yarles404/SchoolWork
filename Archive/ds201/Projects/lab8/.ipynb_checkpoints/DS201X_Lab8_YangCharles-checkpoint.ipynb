{
 "cells": [
  {
   "cell_type": "code",
   "execution_count": 41,
   "metadata": {},
   "outputs": [],
   "source": [
    "from bokeh.plotting import figure, show, output_notebook\n",
    "import pandas as pd\n",
    "import matplotlib.pyplot as plt\n",
    "from bokeh.models import ColumnDataSource, CDSView, GroupFilter"
   ]
  },
  {
   "cell_type": "code",
   "execution_count": 21,
   "metadata": {
    "collapsed": true
   },
   "outputs": [
    {
     "name": "stdout",
     "output_type": "stream",
     "text": [
      "<class 'pandas.core.frame.DataFrame'>\n",
      "RangeIndex: 63 entries, 0 to 62\n",
      "Data columns (total 7 columns):\n",
      "Date           63 non-null object\n",
      "Location       63 non-null object\n",
      "Lemon          63 non-null int64\n",
      "Orange         63 non-null int64\n",
      "Temperature    63 non-null int64\n",
      "Leaflets       63 non-null int64\n",
      "Price          63 non-null float64\n",
      "dtypes: float64(1), int64(4), object(2)\n",
      "memory usage: 3.6+ KB\n"
     ]
    }
   ],
   "source": [
    "lemon = pd.read_csv(\"Lemonade_Lab8.csv\")\n",
    "lemon.info()"
   ]
  },
  {
   "cell_type": "code",
   "execution_count": null,
   "metadata": {},
   "outputs": [],
   "source": []
  },
  {
   "cell_type": "code",
   "execution_count": 28,
   "metadata": {
    "collapsed": true
   },
   "outputs": [
    {
     "name": "stdout",
     "output_type": "stream",
     "text": [
      "<class 'pandas.core.frame.DataFrame'>\n",
      "Int64Index: 62 entries, 0 to 62\n",
      "Data columns (total 7 columns):\n",
      "Date           62 non-null object\n",
      "Location       62 non-null object\n",
      "Lemon          62 non-null int64\n",
      "Orange         62 non-null int64\n",
      "Temperature    62 non-null int64\n",
      "Leaflets       62 non-null int64\n",
      "Price          62 non-null float64\n",
      "dtypes: float64(1), int64(4), object(2)\n",
      "memory usage: 3.9+ KB\n"
     ]
    }
   ],
   "source": [
    "lemon.drop_duplicates(subset = \"Date\", inplace = True)\n",
    "lemon.info()"
   ]
  },
  {
   "cell_type": "code",
   "execution_count": 42,
   "metadata": {},
   "outputs": [],
   "source": [
    "Q4 = figure(title = \"Lemon and Orange sales by Temperature\", plot_width = 300, plot_height = 300)\n",
    "Q4.circle(\"Temperature\",\n",
    "                   \"Lemon\",\n",
    "                   source = ColumnDataSource(lemon),\n",
    "                   color = \"yellow\",\n",
    "                   size = 8\n",
    "                  )\n",
    "Q4.triangle(\"Temperature\",\n",
    "                     \"Orange\",\n",
    "                     source = ColumnDataSource(lemon),\n",
    "                     color = \"orange\",\n",
    "                     size = 8\n",
    "                    )\n",
    "\n",
    "show(Q4)"
   ]
  },
  {
   "cell_type": "markdown",
   "metadata": {},
   "source": [
    "Both Lemon and Orange sales have a moderate postive correlation with temperature. However, Lemon's max is greater than Oranges"
   ]
  },
  {
   "cell_type": "code",
   "execution_count": 49,
   "metadata": {},
   "outputs": [],
   "source": [
    "Q6Source = ColumnDataSource(lemon)\n",
    "temperatures = list(lemon.groupby(\"Temperature\").groups)\n",
    "avg = lemon.groupby(\"Temperature\")[\"Lemon\"].mean()\n",
    "std = lemon.groupby(\"Temperature\")[\"Lemon\"].std()\n",
    "\n",
    "park = CDSView(source = Q6Source,\n",
    "               filters = [GroupFilter(column_name = \"Location\", group = \"Park\")]\n",
    "              )\n",
    "beach = CDSView(source = Q6Source,\n",
    "                filters = [GroupFilter(column_name = \"Location\", group = \"Beach\")]\n",
    "               )\n",
    "Q6 = figure(title = \"Temperature vs Lemon Sales (Park and Beach)\")\n",
    "Q6.circle(\"Temperature\",\n",
    "          \"Lemon\",\n",
    "          source = Q6Source,\n",
    "          color = \"red\",\n",
    "          size = 8,\n",
    "          view = park,\n",
    "          legend = \"Sale in Park\"\n",
    "         )\n",
    "Q6.triangle(\"Temperature\", \"Lemon\",\n",
    "            source = Q6Source,\n",
    "            color = \"blue\", size = 8,\n",
    "            view = beach,\n",
    "            legend = \"Sale in Beach\"\n",
    "           )\n",
    "Q6.legend.location = \"top_left\"\n",
    "Q6.vbar(x = temperatures,\n",
    "        top = avg + std,\n",
    "        width = 0.8,\n",
    "        bottom = avg - std,\n",
    "        fill_alpha = 0.2,\n",
    "        legend = \"Lemon Revenue 1 stddev\"\n",
    "       )\n",
    "\n",
    "show(Q6)"
   ]
  },
  {
   "cell_type": "markdown",
   "metadata": {},
   "source": [
    "As temperature increases, Sales at both the Park and Beach increase\n",
    "Park has more sales at lower temperatures than Beach\n",
    "Beach has more outliers outside of 1 stddev that Park\n"
   ]
  }
 ],
 "metadata": {
  "kernelspec": {
   "display_name": "Python 3",
   "language": "python",
   "name": "python3"
  },
  "language_info": {
   "codemirror_mode": {
    "name": "ipython",
    "version": 3
   },
   "file_extension": ".py",
   "mimetype": "text/x-python",
   "name": "python",
   "nbconvert_exporter": "python",
   "pygments_lexer": "ipython3",
   "version": "3.7.4"
  }
 },
 "nbformat": 4,
 "nbformat_minor": 2
}
