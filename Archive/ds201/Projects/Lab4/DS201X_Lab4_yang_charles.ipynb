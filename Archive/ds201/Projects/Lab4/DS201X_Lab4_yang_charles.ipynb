{
 "cells": [
  {
   "cell_type": "code",
   "execution_count": 1,
   "metadata": {},
   "outputs": [],
   "source": [
    "def Letter_grade():\n",
    "    final_score = float(input(\"What is your final grade percent?: \"))\n",
    "    \n",
    "    if final_score <= 100 and final_score >= 0:\n",
    "        if final_score >= 92.5:\n",
    "            print(\"Your score: %\", final_score, \"Your letter grade: A, good job!\")\n",
    "        elif final_score >= 82.5:\n",
    "            print(\"Your score: %\", final_score, \"Your letter grade: B\")\n",
    "        elif final_score >= 72.5:\n",
    "            print(\"Your score: %\", final_score, \"Your letter grade: C\")\n",
    "        elif final_score >= 62.5:\n",
    "            print(\"Your score: %\", final_score, \"Your letter grade: D\")\n",
    "        else:\n",
    "            print(\"Your score: %\", final_score, \"Your letter grade: F, Sorry you failed\")\n",
    "    else:\n",
    "        print(\"Invalid percent score!\")"
   ]
  },
  {
   "cell_type": "code",
   "execution_count": null,
   "metadata": {},
   "outputs": [
    {
     "name": "stdout",
     "output_type": "stream",
     "text": [
      "What is your final grade percent?: 15\n",
      "Your score: % 15.0 Your letter grade: F, Sorry you failed\n",
      "Do you have more student's final points? Yes or No: yes\n",
      "What is your final grade percent?: 75\n",
      "Your score: % 75.0 Your letter grade: C\n",
      "Do you have more student's final points? Yes or No: y\n",
      "What is your final grade percent?: 69\n",
      "Your score: % 69.0 Your letter grade: D\n",
      "Do you have more student's final points? Yes or No: I do\n",
      "What is your final grade percent?: 95\n",
      "Your score: % 95.0 Your letter grade: A, good job!\n",
      "Do you have more student's final points? Yes or No: Yes\n",
      "What is your final grade percent?: 82\n",
      "Your score: % 82.0 Your letter grade: C\n",
      "Do you have more student's final points? Yes or No: yes\n",
      "What is your final grade percent?: 85\n",
      "Your score: % 85.0 Your letter grade: B\n"
     ]
    }
   ],
   "source": [
    "def main():\n",
    "    answer = \"Yes\"\n",
    "    \n",
    "    while answer in [\"Yes\", \"yes\", \"Y\", \"y\", \"I do\"]:\n",
    "        Letter_grade()\n",
    "        answer = input(\"Do you have more student's final points? Yes or No: \")\n",
    "if __name__ == '__main__':\n",
    "    main()"
   ]
  }
 ],
 "metadata": {
  "kernelspec": {
   "display_name": "Python 3",
   "language": "python",
   "name": "python3"
  },
  "language_info": {
   "codemirror_mode": {
    "name": "ipython",
    "version": 3
   },
   "file_extension": ".py",
   "mimetype": "text/x-python",
   "name": "python",
   "nbconvert_exporter": "python",
   "pygments_lexer": "ipython3",
   "version": "3.7.4"
  }
 },
 "nbformat": 4,
 "nbformat_minor": 2
}
